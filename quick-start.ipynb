{
 "cells": [
  {
   "cell_type": "code",
   "execution_count": 1,
   "id": "f7a4f10c-78ee-4288-b75a-e9ee28e320a4",
   "metadata": {},
   "outputs": [],
   "source": [
    "import sys\n",
    "import logging\n",
    "import os\n",
    "import time\n",
    "import boto3\n",
    "import json"
   ]
  },
  {
   "cell_type": "code",
   "execution_count": 3,
   "id": "3fd02526-cedb-44ef-8f58-769d8888d741",
   "metadata": {},
   "outputs": [],
   "source": [
    "sts_client = boto3.client('sts')\n",
    "session = boto3.session.Session()\n",
    "region =  session.region_name\n",
    "account_id = sts_client.get_caller_identity()[\"Account\"]\n",
    "bedrock_agent_client = boto3.client('bedrock-agent')\n",
    "bedrock_agent_runtime_client = boto3.client('bedrock-agent-runtime') "
   ]
  },
  {
   "cell_type": "code",
   "execution_count": 8,
   "id": "0cdbb527-60a6-4f9b-9594-df12babc090d",
   "metadata": {},
   "outputs": [
    {
     "data": {
      "text/plain": [
       "'FJG5JJM6J1'"
      ]
     },
     "execution_count": 8,
     "metadata": {},
     "output_type": "execute_result"
    }
   ],
   "source": [
    "kb_name = 'demo-knowledge-base-csv'\n",
    "kbs = bedrock_agent_client.list_knowledge_bases(maxResults=100)\n",
    "kb_id = next((kb['knowledgeBaseId'] for kb in kbs['knowledgeBaseSummaries'] if kb['name'] == kb_name), None)\n",
    "kb_id"
   ]
  },
  {
   "cell_type": "code",
   "execution_count": 25,
   "id": "6d9c4f5c-18a0-4671-9c75-a841760662ce",
   "metadata": {},
   "outputs": [
    {
     "name": "stdout",
     "output_type": "stream",
     "text": [
      "Response status: 200\n"
     ]
    }
   ],
   "source": [
    "query = \"What are key drink categories?\"\n",
    "fm = \"anthropic.claude-3-sonnet-20240229-v1:0\"\n",
    "\n",
    "response = bedrock_agent_runtime_client.retrieve_and_generate(\n",
    "    input={\n",
    "        \"text\": query\n",
    "    },\n",
    "    retrieveAndGenerateConfiguration={\n",
    "        \"type\": \"KNOWLEDGE_BASE\",\n",
    "        \"knowledgeBaseConfiguration\": {\n",
    "            'knowledgeBaseId': kb_id,\n",
    "            \"modelArn\": f\"arn:aws:bedrock:{region}::foundation-model/{fm}\",\n",
    "            \"retrievalConfiguration\": {\n",
    "                \"vectorSearchConfiguration\": {\n",
    "                    \"numberOfResults\":5\n",
    "                }\n",
    "            }\n",
    "        }\n",
    "    }\n",
    ")\n",
    "print(f\"Response status: {response['ResponseMetadata']['HTTPStatusCode']}\")"
   ]
  },
  {
   "cell_type": "code",
   "execution_count": 27,
   "id": "e12f0c0b-2268-4c13-b3cf-a2587f92ce12",
   "metadata": {},
   "outputs": [
    {
     "name": "stdout",
     "output_type": "stream",
     "text": [
      "\n",
      "Here is the query:\n",
      "What are key drink categories?\n",
      "\n",
      "Here is the NL output:\n",
      "The key drink categories based on the query output are Coffee, Espresso, Tea, and Herbal Tea. The caffeination levels for these categories are either Regular or Decaf.\n",
      "\n",
      "Here is the SQL to retrieve data from CSV files:\n",
      "SELECT DISTINCT \"category\", \"caffeination\" FROM awsdatacatalog.\"demo-kb\".demo_csv_639649899411;\n",
      "\n"
     ]
    }
   ],
   "source": [
    "print(f\"\"\"\n",
    "Here is the query:\n",
    "{query}\n",
    "\n",
    "Here is the NL output:\n",
    "{response['output']['text']}\n",
    "\n",
    "Here is the SQL to retrieve data from CSV files:\n",
    "{response['citations'][0]['retrievedReferences'][0]['location']['sqlLocation']['query']}\n",
    "\"\"\")"
   ]
  },
  {
   "cell_type": "code",
   "execution_count": null,
   "id": "dc17c475-ae0d-4c7c-93ce-fc09756683ea",
   "metadata": {},
   "outputs": [],
   "source": []
  }
 ],
 "metadata": {
  "kernelspec": {
   "display_name": "conda_python3",
   "language": "python",
   "name": "conda_python3"
  },
  "language_info": {
   "codemirror_mode": {
    "name": "ipython",
    "version": 3
   },
   "file_extension": ".py",
   "mimetype": "text/x-python",
   "name": "python",
   "nbconvert_exporter": "python",
   "pygments_lexer": "ipython3",
   "version": "3.10.17"
  }
 },
 "nbformat": 4,
 "nbformat_minor": 5
}
