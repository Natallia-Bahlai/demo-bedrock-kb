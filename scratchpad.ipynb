{
 "cells": [
  {
   "cell_type": "code",
   "execution_count": null,
   "id": "c13f5ba9-70f4-4427-b334-8f123b1970fc",
   "metadata": {},
   "outputs": [],
   "source": [
    "!pip install awswrangler xlrd"
   ]
  },
  {
   "cell_type": "code",
   "execution_count": 6,
   "id": "9f9af2b3-084d-403a-8b07-5b353bec11ac",
   "metadata": {},
   "outputs": [],
   "source": [
    "import sys\n",
    "import logging\n",
    "import os\n",
    "import time\n",
    "import boto3\n",
    "import json"
   ]
  },
  {
   "cell_type": "code",
   "execution_count": 7,
   "id": "575e43c2-31c0-4163-adde-fd356988a60b",
   "metadata": {},
   "outputs": [],
   "source": [
    "sts_client = boto3.client('sts')\n",
    "session = boto3.session.Session()\n",
    "region =  session.region_name\n",
    "account_id = sts_client.get_caller_identity()[\"Account\"]"
   ]
  },
  {
   "cell_type": "code",
   "execution_count": 10,
   "id": "ff1c910c-aea1-4330-9122-65d00a82ab76",
   "metadata": {},
   "outputs": [
    {
     "name": "stdout",
     "output_type": "stream",
     "text": [
      "Processing file: superstore\n",
      "Created: s3://demo-csv-639649899411/output/superstore/orders/orders.csv\n",
      "Created: s3://demo-csv-639649899411/output/superstore/people/people.csv\n",
      "Created: s3://demo-csv-639649899411/output/superstore/returns/returns.csv\n"
     ]
    }
   ],
   "source": [
    "import awswrangler as wr\n",
    "import re\n",
    "from pathlib import Path\n",
    "\n",
    "def clean_name(name):\n",
    "    # Remove special characters and spaces\n",
    "    clean = re.sub(r'[^a-zA-Z0-9]', '_', name)\n",
    "    # Convert to lowercase\n",
    "    clean = clean.lower()\n",
    "    # Remove multiple underscores\n",
    "    clean = re.sub(r'_+', '_', clean)\n",
    "    # Remove leading/trailing underscores\n",
    "    clean = clean.strip('_')\n",
    "    return clean\n",
    "\n",
    "def process_excel_files(s3_source_folder, s3_output_prefix):\n",
    "    # List all Excel files in the source folder\n",
    "    excel_files = wr.s3.list_objects(\n",
    "        path=s3_source_folder,\n",
    "        suffix=('.xlsx', '.xls')\n",
    "    )\n",
    "    \n",
    "    for excel_file in excel_files:\n",
    "        # Get file name without extension\n",
    "        file_name = clean_name(Path(excel_file).stem)\n",
    "        print(f\"Processing file: {file_name}\")\n",
    "        \n",
    "        try:\n",
    "            # Read all sheets from Excel file\n",
    "            dfs = wr.s3.read_excel(\n",
    "                path=excel_file,\n",
    "                sheet_name=None  # None reads all sheets\n",
    "            )\n",
    "            \n",
    "            # Process each sheet\n",
    "            for sheet_name, df in dfs.items():\n",
    "                clean_sheet_name = clean_name(sheet_name)\n",
    "                output_path = f\"{s3_output_prefix}/{file_name}/{clean_sheet_name}/{clean_sheet_name}.csv\"\n",
    "                \n",
    "                wr.s3.to_csv(\n",
    "                    df=df,\n",
    "                    path=output_path,\n",
    "                    index=False\n",
    "                )\n",
    "                print(f\"Created: {output_path}\")\n",
    "                \n",
    "        except Exception as e:\n",
    "            print(f\"Error processing {file_name}: {str(e)}\")\n",
    "\n",
    "# Example usage\n",
    "source_folder = f\"s3://demo-xls-{account_id}/\"\n",
    "output_prefix = f\"s3://demo-csv-{account_id}/output\"\n",
    "process_excel_files(source_folder, output_prefix)\n"
   ]
  },
  {
   "cell_type": "code",
   "execution_count": null,
   "id": "478edd09-dbbb-4651-9d8d-0e89ac629adf",
   "metadata": {},
   "outputs": [],
   "source": []
  }
 ],
 "metadata": {
  "kernelspec": {
   "display_name": "conda_python3",
   "language": "python",
   "name": "conda_python3"
  },
  "language_info": {
   "codemirror_mode": {
    "name": "ipython",
    "version": 3
   },
   "file_extension": ".py",
   "mimetype": "text/x-python",
   "name": "python",
   "nbconvert_exporter": "python",
   "pygments_lexer": "ipython3",
   "version": "3.10.17"
  }
 },
 "nbformat": 4,
 "nbformat_minor": 5
}
